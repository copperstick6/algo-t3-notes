{
 "cells": [
  {
   "cell_type": "markdown",
   "metadata": {},
   "source": [
    "# Chapter 8"
   ]
  },
  {
   "cell_type": "markdown",
   "metadata": {},
   "source": [
    "There's a gray area where there's a range of problems that can't be solved efficiently. These are NP-complete problem. If we solve one type of this problem, we can solve all these problems. It means that they are computationally hard, but we can't prove that it is copmutationally hard."
   ]
  },
  {
   "cell_type": "markdown",
   "metadata": {},
   "source": [
    "## 8.1 Polynomial-Time Reductions"
   ]
  },
  {
   "cell_type": "markdown",
   "metadata": {},
   "source": [
    "In order to explore computationally hard problems, the most basic technique is to compare the relative difficulty of different problems. The notion is called **reduction**, where we will say that a problem X is at least as hard as problem Y, by saying that if we had a black box capable of solving X, we could solve Y.  \n",
    "If X is at least as hard as Y and Y cannot be solved in polynomial time, Y cannot be solved in polynomial time as well."
   ]
  },
  {
   "cell_type": "markdown",
   "metadata": {},
   "source": [
    "### 8.2 Reductions via Gadgets"
   ]
  },
  {
   "cell_type": "markdown",
   "metadata": {},
   "source": [
    "Satisfiability problem is whether or not a set of boolean clauses can be evaluated to true. The 3-Sat problem is whether or not a set of clauses of length 3 can be satisfiable.   \n",
    "We can reduce this problem (3SAT) to the Independent set problem by first constructing a graph of each set of clauses. We then create edges connecting each variable to its complement. We can then run the independent set algorithm. If the largest independent set is at least size k (where there are k clauses), then the CNF is satisfiable."
   ]
  },
  {
   "cell_type": "markdown",
   "metadata": {},
   "source": [
    "### 8.3 Definition of NP"
   ]
  },
  {
   "cell_type": "markdown",
   "metadata": {},
   "source": [
    "A function A has a polynomial running time if there exists a polynomial function p such that for every input s, the algorithm terminates on s in at most O(p(s)) steps. We can express this as the set P of all problems X for which an algorithm A with a polynomial running time that solves X."
   ]
  },
  {
   "cell_type": "markdown",
   "metadata": {},
   "source": [
    "A checking algorithm seeks to compare an input string s and a certificate string t that contains an evidence that S is a yes instance of X.  \n",
    "B is an efficient certifier if it is a polynomial time algorithm that takes in two arguments s and t, and if there is a polynomial function p so that for every string s, there exists a string t, such that B(s,t) is yes and t<p(s).    \n",
    "\n",
    "Basically it's saying that if we can see if s belongs in t, since t is correct."
   ]
  },
  {
   "cell_type": "markdown",
   "metadata": {},
   "source": [
    "NP is the set of all problems where there is an efficient certifier."
   ]
  },
  {
   "cell_type": "markdown",
   "metadata": {},
   "source": [
    "### 8.4 NP-Complete Problems"
   ]
  },
  {
   "cell_type": "markdown",
   "metadata": {},
   "source": [
    "Suppose X is an NP-complete problem, then X is solvable in polynomial time if and only if P=NP. This implies that if there is any probolem not solvable in polynomial time, then no NP-complete problem can be solved in polynomial time.  \n",
    "Basically, a program is NP-Complete if it can be turned into another NP program in polynomial time"
   ]
  },
  {
   "cell_type": "markdown",
   "metadata": {},
   "source": [
    "### 8.7 Graph Coloring"
   ]
  },
  {
   "cell_type": "markdown",
   "metadata": {},
   "source": [
    "2 colorable is easy, check if the graph is bipartite. 3 colorable is harder, it's NP-complete since we can reduce it to 3-SAT in polynomial time. Also, we can easily see that it's NP, since if we know that if it is 3-colorable, we can easily assign colors.  \n",
    "How we reduce:\n",
    "1. Create two nodes, v and ~v for each node. We will connect these two nodes together.\n",
    "2. Next, create three nodes B, T, and F, and connect them to each other. \n",
    "3. Connect all v nodes with B.\n",
    "4. Create a subgraph to attach to the normal graph\n",
    "5. Run 3-SAT"
   ]
  },
  {
   "cell_type": "markdown",
   "metadata": {},
   "source": []
  },
  {
   "cell_type": "markdown",
   "metadata": {},
   "source": []
  },
  {
   "cell_type": "markdown",
   "metadata": {},
   "source": []
  },
  {
   "cell_type": "markdown",
   "metadata": {},
   "source": []
  },
  {
   "cell_type": "markdown",
   "metadata": {},
   "source": []
  },
  {
   "cell_type": "markdown",
   "metadata": {},
   "source": []
  },
  {
   "cell_type": "markdown",
   "metadata": {},
   "source": []
  },
  {
   "cell_type": "markdown",
   "metadata": {},
   "source": []
  },
  {
   "cell_type": "markdown",
   "metadata": {},
   "source": []
  },
  {
   "cell_type": "markdown",
   "metadata": {},
   "source": []
  },
  {
   "cell_type": "markdown",
   "metadata": {},
   "source": []
  },
  {
   "cell_type": "markdown",
   "metadata": {},
   "source": []
  },
  {
   "cell_type": "markdown",
   "metadata": {},
   "source": []
  },
  {
   "cell_type": "markdown",
   "metadata": {},
   "source": []
  },
  {
   "cell_type": "markdown",
   "metadata": {},
   "source": []
  },
  {
   "cell_type": "markdown",
   "metadata": {},
   "source": []
  },
  {
   "cell_type": "markdown",
   "metadata": {},
   "source": []
  },
  {
   "cell_type": "markdown",
   "metadata": {},
   "source": []
  },
  {
   "cell_type": "markdown",
   "metadata": {},
   "source": []
  },
  {
   "cell_type": "markdown",
   "metadata": {},
   "source": []
  },
  {
   "cell_type": "markdown",
   "metadata": {},
   "source": []
  },
  {
   "cell_type": "markdown",
   "metadata": {},
   "source": []
  },
  {
   "cell_type": "markdown",
   "metadata": {},
   "source": []
  },
  {
   "cell_type": "markdown",
   "metadata": {},
   "source": []
  },
  {
   "cell_type": "markdown",
   "metadata": {},
   "source": []
  }
 ],
 "metadata": {
  "kernelspec": {
   "display_name": "Python 3",
   "language": "python",
   "name": "python3"
  },
  "language_info": {
   "codemirror_mode": {
    "name": "ipython",
    "version": 3
   },
   "file_extension": ".py",
   "mimetype": "text/x-python",
   "name": "python",
   "nbconvert_exporter": "python",
   "pygments_lexer": "ipython3",
   "version": "3.6.2"
  }
 },
 "nbformat": 4,
 "nbformat_minor": 2
}
