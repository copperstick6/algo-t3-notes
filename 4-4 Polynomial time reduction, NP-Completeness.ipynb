{
 "cells": [
  {
   "cell_type": "markdown",
   "metadata": {},
   "source": [
    "# Chapter 8"
   ]
  },
  {
   "cell_type": "markdown",
   "metadata": {},
   "source": [
    "There's a gray area where there's a range of problems that can't be solved efficiently. These are NP-complete problem. If we solve one type of this problem, we can solve all these problems. It means that they are computationally hard, but we can't prove that it is copmutationally hard."
   ]
  },
  {
   "cell_type": "markdown",
   "metadata": {},
   "source": [
    "## 8.1 Polynomial-Time Reductions"
   ]
  },
  {
   "cell_type": "markdown",
   "metadata": {},
   "source": [
    "In order to explore computationally hard problems, the most basic technique is to compare the relative difficulty of different problems. The notion is called **reduction**, where we will say that a problem X is at least as hard as problem Y, by saying that if we had a black box capable of solving X, we could solve Y.  \n",
    "If X is at least as hard as Y and Y cannot be solved in polynomial time, Y cannot be solved in polynomial time as well."
   ]
  },
  {
   "cell_type": "markdown",
   "metadata": {},
   "source": [
    "### 8.2 Reductions via Gadgets"
   ]
  },
  {
   "cell_type": "markdown",
   "metadata": {},
   "source": [
    "Satisfiability problem is whether or not a set of boolean clauses can be evaluated to true. The 3-Sat problem is whether or not a set of clauses of length 3 can be satisfiable.   \n",
    "We can reduce this problem (3SAT) to the Independent set problem by first constructing a graph of each set of clauses. We then create edges connecting each variable to its complement. We can then run the independent set algorithm. If the largest independent set is at least size k (where there are k clauses), then the CNF is satisfiable."
   ]
  },
  {
   "cell_type": "markdown",
   "metadata": {},
   "source": [
    "### 8.3 Definition of NP"
   ]
  },
  {
   "cell_type": "markdown",
   "metadata": {},
   "source": [
    "A function A has a polynomial running time if there exists a polynomial function p such that for every input s, the algorithm terminates on s in at most O(p(s)) steps. We can express this as the set P of all problems X for which an algorithm A with a polynomial running time that solves X."
   ]
  },
  {
   "cell_type": "markdown",
   "metadata": {},
   "source": [
    "A checking algorithm seeks to compare an input string s and a certificate string t that contains an evidence that S is a yes instance of X.  \n",
    "B is an efficient certifier if it is a polynomial time algorithm that takes in two arguments s and t, and if there is a polynomial function p so that for every string s, there exists a string t, such that B(s,t) is yes and t<p(s).    \n",
    "\n",
    "Basically it's saying that if we can see if s belongs in t, since t is correct."
   ]
  },
  {
   "cell_type": "markdown",
   "metadata": {},
   "source": [
    "NP is the set of all problems where there is an efficient certifier."
   ]
  },
  {
   "cell_type": "markdown",
   "metadata": {},
   "source": [
    "### 8.4 NP-Complete Problems"
   ]
  },
  {
   "cell_type": "markdown",
   "metadata": {},
   "source": [
    "Suppose X is an NP-complete problem, then X is solvable in polynomial time if and only if P=NP. This implies that if there is any probolem not solvable in polynomial time, then no NP-complete problem can be solved in polynomial time.  \n",
    "Basically, a program is NP-Complete if it can be turned into another NP program in polynomial time"
   ]
  },
  {
   "cell_type": "markdown",
   "metadata": {},
   "source": [
    "### 8.7 Graph Coloring"
   ]
  },
  {
   "cell_type": "markdown",
   "metadata": {},
   "source": [
    "2 colorable is easy, check if the graph is bipartite. 3 colorable is harder, it's NP-complete since we can reduce it to 3-SAT in polynomial time. Also, we can easily see that it's NP, since if we know that if it is 3-colorable, we can easily assign colors.  \n",
    "How we reduce:\n",
    "1. Create two nodes, v and ~v for each node. We will connect these two nodes together.\n",
    "2. Next, create three nodes B, T, and F, and connect them to each other. \n",
    "3. Connect all v nodes with B.\n",
    "4. Create a subgraph to attach to the normal graph\n",
    "5. Run 3-SAT"
   ]
  },
  {
   "cell_type": "markdown",
   "metadata": {},
   "source": [
    "### 11 Approximation Algorithms"
   ]
  },
  {
   "cell_type": "markdown",
   "metadata": {},
   "source": [
    "How do we design algorithms for problems where polynomial time is unattainable?   \n",
    "The answer is approximation algorithms, which run in polynomial time and find solutions close to optimal.  \n",
    "In order to probe an approximation algorithm that is guaranteed to be close to the optimal, we need to compare our solution with the optimal one. This is the difficulty of identifying an approximation algorithm. "
   ]
  },
  {
   "cell_type": "markdown",
   "metadata": {},
   "source": [
    "### 11.1 Greedy Algorithms & Load Balancing Problem"
   ]
  },
  {
   "cell_type": "markdown",
   "metadata": {},
   "source": [
    "Problem is we're given a set of machines and n jobs that have a processing time. We assign each job to one of the machiens so that they are as balanced as possible. We seek to minimize the max load on anhy machine.   \n",
    "This is NP-Hard, because given that we know that we can find a evenly balanced load, we don't know how to find the solution.  \n",
    "Two goals:\n",
    "1. Seek to assign each job\n",
    "2. Spread load evenly across all machines   \n",
    "Greedy algorithm is to place the jobs on the least loaded machine, but this does not provide the optimal solution in some cases."
   ]
  },
  {
   "cell_type": "markdown",
   "metadata": {},
   "source": [
    "#### Proving Correctness"
   ]
  },
  {
   "cell_type": "markdown",
   "metadata": {},
   "source": [
    "Just need to show that this greedy algiorithm produces makespans no more than 2 times the optimal solution.  \n",
    "Optimization is sorting jobs by decreasing order first"
   ]
  },
  {
   "cell_type": "markdown",
   "metadata": {},
   "source": [
    "### 11.6 Linear Programming, an application to Vertex Cover"
   ]
  },
  {
   "cell_type": "markdown",
   "metadata": {},
   "source": [
    "Given a region defined by Ax>=b, linear programming seeks to minimize a linear combination of the coordinates of x, over all x belonging to the region. \n",
    "Basic procedure is:\n",
    "1. Graph the lines bounded by the inequalities\n",
    "2. Turn each inequality into an equation \n",
    "3. Find the intercepts for each equation \n",
    "4. Draw a line running through the intercepts for each equation 5. Shade the area bounded by the inequalities \n",
    "6. Identify corner points i.e. places where the inequalities overlap \n",
    "7. For each corner point calulcate cv\n",
    "8. Return the minimum cv value"
   ]
  },
  {
   "cell_type": "markdown",
   "metadata": {},
   "source": [
    "### Vertex Cover as an Integer Program"
   ]
  },
  {
   "cell_type": "markdown",
   "metadata": {},
   "source": [
    "Vertex Cover is an NP-Complete problem, which means there does not exist a polynomial algorithm to solve it. We can use Linear programming as an approximation. Linear Programming can be solved in polynomial time, so we have to find some way to reduce vertex cover to linear programming, and we have to show that we will get within a factor of 2 of the correct answer."
   ]
  },
  {
   "cell_type": "markdown",
   "metadata": {},
   "source": [
    "We first have to conver VC to another NP-Complete problem, Integer linear programming.  \n",
    "We do this through the following:\n",
    "1. Come up with a decision node for each node\n",
    "2. Each edge must have one end in vertex cover\n",
    "3. Create a n-dimenional vector where the ith coordinate corresponds to xi\n",
    "4. Use linear inequalities to encode the nodes from vertex cover and a function to minimize weight"
   ]
  },
  {
   "cell_type": "markdown",
   "metadata": {},
   "source": [
    "### 11.3 Set Cover: A greedy heuristic"
   ]
  },
  {
   "cell_type": "markdown",
   "metadata": {},
   "source": [
    "Set cover problem is a set U of n elements and a list of subsets of U. We say that a set cover is a collection of these sets whose union is equal to all of U. The goal is to find a set cover so that the number of sets chosen is minimized.  \n",
    "Greedy algorithm is that you build the cover one at a time\n",
    "1. Select the largest set\n",
    "2. Remove all elements in this set from the universe and all other subsets\n",
    "3. Repeat until we get the universe"
   ]
  },
  {
   "cell_type": "markdown",
   "metadata": {},
   "source": [
    "### 9.1 Pspace"
   ]
  },
  {
   "cell_type": "markdown",
   "metadata": {},
   "source": [
    "PSpace is the set of all problems that can be solved with polynomial space complexity, i.e. uses an amount of space polynomial in the size of the input. Algorithm can only consume a polynomial amount of space in polynomial time.  \n",
    "Space can be reused during a computation, but time cannot.  \n",
    "A nonpolynomial time algorithm can also use polynomial space.   \n",
    "co-NP is where you focus on answering no to the same, but complemented problem. "
   ]
  },
  {
   "cell_type": "markdown",
   "metadata": {},
   "source": [
    "Q-SAT is in PSPACE. This is because you recursively try all the possibilities and maintain a single bit for each subproblem $C_k$  \n",
    "Proven that Q-SAT is PSPACE Complete. In order to check if a problem is PSPACE Complete, you just check if it is PSPACE and then check if it is reduceable to another PSPACE Complete problem."
   ]
  },
  {
   "cell_type": "markdown",
   "metadata": {},
   "source": [
    "### Turing Machines"
   ]
  },
  {
   "cell_type": "markdown",
   "metadata": {},
   "source": [
    "Abstract model of computation created by Alan Turing, can do everything a real computer can do.   \n",
    "Turing Machine has state and transitions. It has a tape that has an end on the left side but is inifinite on the right side.  \n",
    "Input is written on the tape but TM can also write onto the tape.   \n",
    "TM has a read/write head that is located over some character on the input tape. The TM can choose to write or not, and can move left or right. It can move on the tape but it's bidirectional.  \n",
    "TLDR:\n",
    "1. Contains an infinite tape that has an input string and nothing elsewhere\n",
    "2. Has a read/write head. After reading the character, head must go left or right, but it won't move if the head is at the end\n",
    "3. Has a control, which is specified by a finity number of instructions, which represents the program in modern computers.   \n",
    "  \n",
    "TM starts at a start state, and continues computing until it reaches an accept or reject state. If the machine does not enter an accept/reject state, it will go on forever.  \n",
    "Turing machine starts with current state, current tape contents, and current head location   \n",
    "Computation is a series of configurations starting in the start configuration and ending in accept/reject configuration, and each successive confuguration is obtained through tranisition rules.  \n",
    "Collection of strings TM accepts is called the language recognized.  \n",
    "Computations that do not terminate are said to loop.  \n",
    "A TM that always halts is a decider, and a language recognized by a decider is called Turing decidable language"
   ]
  },
  {
   "cell_type": "markdown",
   "metadata": {},
   "source": [
    "A language is recognizable if there exists a turing machine such that for any given input that is a subset of L, it runs and halts in accept, and it either loops or halts in qreject if it is not in L.   \n",
    "A language is decidable if there exists a turing machine that for any given such that it is in the language, the machine halts and accepts, and for any input not in the language, it halts and rejects.  \n",
    "A universal turing machine is a turing machine capable of simulating other turing machines."
   ]
  },
  {
   "cell_type": "markdown",
   "metadata": {},
   "source": [
    "**I don't actually understand Randomized so it would be nice if someone did that lol.**"
   ]
  }
 ],
 "metadata": {
  "kernelspec": {
   "display_name": "Python 3",
   "language": "python",
   "name": "python3"
  },
  "language_info": {
   "codemirror_mode": {
    "name": "ipython",
    "version": 3
   },
   "file_extension": ".py",
   "mimetype": "text/x-python",
   "name": "python",
   "nbconvert_exporter": "python",
   "pygments_lexer": "ipython3",
   "version": "3.6.2"
  }
 },
 "nbformat": 4,
 "nbformat_minor": 2
}
